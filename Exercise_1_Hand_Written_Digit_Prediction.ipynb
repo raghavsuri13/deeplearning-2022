{
  "nbformat": 4,
  "nbformat_minor": 0,
  "metadata": {
    "colab": {
      "provenance": [],
      "include_colab_link": true
    },
    "kernelspec": {
      "name": "python3",
      "display_name": "Python 3"
    },
    "language_info": {
      "name": "python"
    }
  },
  "cells": [
    {
      "cell_type": "markdown",
      "metadata": {
        "id": "view-in-github",
        "colab_type": "text"
      },
      "source": [
        "<a href=\"https://colab.research.google.com/github/raghavsuri13/deeplearning-2022/blob/main/Exercise_1_Hand_Written_Digit_Prediction.ipynb\" target=\"_parent\"><img src=\"https://colab.research.google.com/assets/colab-badge.svg\" alt=\"Open In Colab\"/></a>"
      ]
    },
    {
      "cell_type": "code",
      "execution_count": null,
      "metadata": {
        "id": "cSCHj_wyKf0O"
      },
      "outputs": [],
      "source": []
    },
    {
      "cell_type": "markdown",
      "source": [
        "# Hand Written Digit Prediction using Sequential Neuron Network with single Dense Layer"
      ],
      "metadata": {
        "id": "09sUuGOIKmSW"
      }
    },
    {
      "cell_type": "markdown",
      "source": [
        "# Import libraries"
      ],
      "metadata": {
        "id": "_wPMZRQgKoiC"
      }
    },
    {
      "cell_type": "code",
      "source": [
        "import numpy as np\n",
        "from matplotlib import pyplot as plt\n",
        "import tensorflow as tf\n",
        "from tensorflow import keras"
      ],
      "metadata": {
        "id": "pjc1ISu4Knhx"
      },
      "execution_count": 1,
      "outputs": []
    },
    {
      "cell_type": "markdown",
      "source": [
        "# Load Digit Dataset from sklearn.datasets library\n"
      ],
      "metadata": {
        "id": "SchvY4FPKzrG"
      }
    },
    {
      "cell_type": "code",
      "source": [
        "from sklearn.datasets import load_digits"
      ],
      "metadata": {
        "id": "bQjavh_7Kyu5"
      },
      "execution_count": 2,
      "outputs": []
    },
    {
      "cell_type": "code",
      "source": [
        "digit_dataset = load_digits()"
      ],
      "metadata": {
        "id": "b4dh-UC9K-ud"
      },
      "execution_count": 3,
      "outputs": []
    },
    {
      "cell_type": "code",
      "source": [
        "dir(digit_dataset)"
      ],
      "metadata": {
        "id": "thIqFe3nLEeH",
        "outputId": "94c05891-98b9-48b4-fd24-c2a6bf024612",
        "colab": {
          "base_uri": "https://localhost:8080/"
        }
      },
      "execution_count": 4,
      "outputs": [
        {
          "output_type": "execute_result",
          "data": {
            "text/plain": [
              "['DESCR', 'data', 'feature_names', 'frame', 'images', 'target', 'target_names']"
            ]
          },
          "metadata": {},
          "execution_count": 4
        }
      ]
    },
    {
      "cell_type": "code",
      "source": [
        "digit_dataset.data[0]"
      ],
      "metadata": {
        "id": "aVGHjRwOLGs_",
        "outputId": "6eeda3de-37a9-4892-f192-09a82c7529df",
        "colab": {
          "base_uri": "https://localhost:8080/"
        }
      },
      "execution_count": 5,
      "outputs": [
        {
          "output_type": "execute_result",
          "data": {
            "text/plain": [
              "array([ 0.,  0.,  5., 13.,  9.,  1.,  0.,  0.,  0.,  0., 13., 15., 10.,\n",
              "       15.,  5.,  0.,  0.,  3., 15.,  2.,  0., 11.,  8.,  0.,  0.,  4.,\n",
              "       12.,  0.,  0.,  8.,  8.,  0.,  0.,  5.,  8.,  0.,  0.,  9.,  8.,\n",
              "        0.,  0.,  4., 11.,  0.,  1., 12.,  7.,  0.,  0.,  2., 14.,  5.,\n",
              "       10., 12.,  0.,  0.,  0.,  0.,  6., 13., 10.,  0.,  0.,  0.])"
            ]
          },
          "metadata": {},
          "execution_count": 5
        }
      ]
    },
    {
      "cell_type": "code",
      "source": [
        "digit_dataset.target[0]"
      ],
      "metadata": {
        "id": "lXo7At1eLQA1",
        "outputId": "8bdf32b7-3211-4ce9-ed1a-2ed22cfca04b",
        "colab": {
          "base_uri": "https://localhost:8080/"
        }
      },
      "execution_count": 6,
      "outputs": [
        {
          "output_type": "execute_result",
          "data": {
            "text/plain": [
              "0"
            ]
          },
          "metadata": {},
          "execution_count": 6
        }
      ]
    },
    {
      "cell_type": "code",
      "source": [
        "plt.matshow(digit_dataset.images[0])"
      ],
      "metadata": {
        "colab": {
          "base_uri": "https://localhost:8080/",
          "height": 292
        },
        "id": "bzKd62sMLUZk",
        "outputId": "8aff625e-96c2-4579-a74e-2ffc6dfdd8d8"
      },
      "execution_count": 7,
      "outputs": [
        {
          "output_type": "execute_result",
          "data": {
            "text/plain": [
              "<matplotlib.image.AxesImage at 0x7f774e145c40>"
            ]
          },
          "metadata": {},
          "execution_count": 7
        },
        {
          "output_type": "display_data",
          "data": {
            "text/plain": [
              "<Figure size 288x288 with 1 Axes>"
            ],
            "image/png": "[encoded data removed]"
          },
          "metadata": {
            "needs_background": "light"
          }
        }
      ]
    },
    {
      "cell_type": "code",
      "source": [
        "print(f\"Shape of the Image: {digit_dataset.images[0].shape}\")"
      ],
      "metadata": {
        "colab": {
          "base_uri": "https://localhost:8080/"
        },
        "id": "OX1xtGqOLcbV",
        "outputId": "ced63fb6-a0e7-4b76-e61c-7b108acc6b87"
      },
      "execution_count": 8,
      "outputs": [
        {
          "output_type": "stream",
          "name": "stdout",
          "text": [
            "Shape of the Image: (8, 8)\n"
          ]
        }
      ]
    },
    {
      "cell_type": "markdown",
      "source": [
        "# split the dataset"
      ],
      "metadata": {
        "id": "Wyr23FbcL1lm"
      }
    },
    {
      "cell_type": "code",
      "source": [
        "# your code goes here\n",
        "(X_train, y_train), (X_test, y_test) = keras.datasets.mnist.load_data()\n"
      ],
      "metadata": {
        "id": "yzzFsIbcLy_h"
      },
      "execution_count": 32,
      "outputs": []
    },
    {
      "cell_type": "code",
      "source": [
        "# print the shapre of train dataset\n",
        "X_train_flat = X_train.reshape(len(X_train),784)\n",
        "X_test_flat = X_test.reshape(len(X_test),784)\n"
      ],
      "metadata": {
        "id": "2xxwzG0SMOwV"
      },
      "execution_count": 33,
      "outputs": []
    },
    {
      "cell_type": "code",
      "source": [
        "print(f\"X_train_flat.shape: {X_train_flat.shape} and y_train.shape: {y_train.shape}\")\n",
        "print(f\"X_test_flat.shape: {X_test_flat.shape} and y_test.shape: {y_test.shape}\")"
      ],
      "metadata": {
        "id": "pRJhuT82oRtc",
        "outputId": "60b3c2f9-dba3-4216-c6d5-e8851afb4d9b",
        "colab": {
          "base_uri": "https://localhost:8080/"
        }
      },
      "execution_count": 34,
      "outputs": [
        {
          "output_type": "stream",
          "name": "stdout",
          "text": [
            "X_train_flat.shape: (60000, 784) and y_train.shape: (60000,)\n",
            "X_test_flat.shape: (10000, 784) and y_test.shape: (10000,)\n"
          ]
        }
      ]
    },
    {
      "cell_type": "markdown",
      "source": [
        "# create you Sequential Neural Network having single Dense layer."
      ],
      "metadata": {
        "id": "TnRR8D3OMdM1"
      }
    },
    {
      "cell_type": "code",
      "source": [
        "# Create Sequential Neuron Network with Dense Layer\n",
        "model = keras.Sequential([\n",
        "    keras.layers.Dense(100, input_shape=(784,), activation='relu'),\n",
        "    keras.layers.Dense(10, activation = 'sigmoid')\n",
        "])\n",
        "from tensorflow.python import metrics\n",
        "model.compile(optimizer='adam',\n",
        "              loss='sparse_categorical_crossentropy',\n",
        "              metrics=['accuracy'])"
      ],
      "metadata": {
        "id": "ai1cXFfsMa8M"
      },
      "execution_count": 35,
      "outputs": []
    },
    {
      "cell_type": "code",
      "source": [],
      "metadata": {
        "id": "NQfIGWV9nmhm"
      },
      "execution_count": 37,
      "outputs": []
    },
    {
      "cell_type": "code",
      "source": [],
      "metadata": {
        "id": "ax09eqRqnm01"
      },
      "execution_count": null,
      "outputs": []
    },
    {
      "cell_type": "code",
      "source": [],
      "metadata": {
        "id": "NhYqAa-snnCi"
      },
      "execution_count": null,
      "outputs": []
    },
    {
      "cell_type": "code",
      "source": [
        "# Fit & Evaluate the model\n",
        "model.fit(X_train_flat, y_train, epochs=10)\n",
        "print(\"Evaluating...\")\n",
        "model.evaluate(X_test_flat, y_test)\n"
      ],
      "metadata": {
        "id": "jp1KlmsXMu2g",
        "outputId": "426a5558-d69e-4441-b807-5b0f9d80f6fd",
        "colab": {
          "base_uri": "https://localhost:8080/"
        }
      },
      "execution_count": 38,
      "outputs": [
        {
          "output_type": "stream",
          "name": "stdout",
          "text": [
            "Epoch 1/10\n",
            "1875/1875 [==============================] - 6s 3ms/step - loss: 2.1110 - accuracy: 0.8439\n",
            "Epoch 2/10\n",
            "1875/1875 [==============================] - 5s 3ms/step - loss: 0.3550 - accuracy: 0.9118\n",
            "Epoch 3/10\n",
            "1875/1875 [==============================] - 5s 3ms/step - loss: 0.2696 - accuracy: 0.9302\n",
            "Epoch 4/10\n",
            "1875/1875 [==============================] - 5s 3ms/step - loss: 0.2489 - accuracy: 0.9345\n",
            "Epoch 5/10\n",
            "1875/1875 [==============================] - 5s 3ms/step - loss: 0.2331 - accuracy: 0.9397\n",
            "Epoch 6/10\n",
            "1875/1875 [==============================] - 5s 3ms/step - loss: 0.2130 - accuracy: 0.9449\n",
            "Epoch 7/10\n",
            "1875/1875 [==============================] - 5s 2ms/step - loss: 0.2028 - accuracy: 0.9473\n",
            "Epoch 8/10\n",
            "1875/1875 [==============================] - 5s 3ms/step - loss: 0.2017 - accuracy: 0.9493\n",
            "Epoch 9/10\n",
            "1875/1875 [==============================] - 5s 3ms/step - loss: 0.1925 - accuracy: 0.9507\n",
            "Epoch 10/10\n",
            "1875/1875 [==============================] - 5s 3ms/step - loss: 0.1838 - accuracy: 0.9534\n",
            "Evaluating...\n",
            "313/313 [==============================] - 1s 2ms/step - loss: 0.2484 - accuracy: 0.9441\n"
          ]
        },
        {
          "output_type": "execute_result",
          "data": {
            "text/plain": [
              "[0.2483787089586258, 0.944100022315979]"
            ]
          },
          "metadata": {},
          "execution_count": 38
        }
      ]
    },
    {
      "cell_type": "code",
      "source": [
        "# Predict first image class\n",
        "predict_one = model.predict(X_test_flat)\n",
        "print(f\"Predicted Label: {np.argmax(predict_one[0])} and Actual label: {y_test[0]}\")\n"
      ],
      "metadata": {
        "id": "7-IbhRyqEZ2K",
        "outputId": "75328943-656f-46a5-e9b2-5cbf9f281544",
        "colab": {
          "base_uri": "https://localhost:8080/"
        }
      },
      "execution_count": 42,
      "outputs": [
        {
          "output_type": "stream",
          "name": "stdout",
          "text": [
            "313/313 [==============================] - 0s 2ms/step\n",
            "Predicted Label: 7 and Actual label: 7\n"
          ]
        }
      ]
    },
    {
      "cell_type": "code",
      "source": [],
      "metadata": {
        "id": "ycV2kuf7NEoP"
      },
      "execution_count": null,
      "outputs": []
    },
    {
      "cell_type": "code",
      "source": [],
      "metadata": {
        "id": "4OL4B4TJNSS_"
      },
      "execution_count": null,
      "outputs": []
    },
    {
      "cell_type": "code",
      "source": [
        "# print the score the the model\n",
        "model.evaluate(X_test_flat, y_test)"
      ],
      "metadata": {
        "id": "CfjIeCeYNfU3",
        "outputId": "dc827bf0-20d3-49cd-a0c0-b0bd615c43ae",
        "colab": {
          "base_uri": "https://localhost:8080/"
        }
      },
      "execution_count": 46,
      "outputs": [
        {
          "output_type": "stream",
          "name": "stdout",
          "text": [
            "313/313 [==============================] - 1s 2ms/step - loss: 0.2484 - accuracy: 0.9441\n"
          ]
        },
        {
          "output_type": "execute_result",
          "data": {
            "text/plain": [
              "[0.2483787089586258, 0.944100022315979]"
            ]
          },
          "metadata": {},
          "execution_count": 46
        }
      ]
    },
    {
      "cell_type": "code",
      "source": [],
      "metadata": {
        "id": "5SdGBLDTqhGU"
      },
      "execution_count": null,
      "outputs": []
    }
  ]
}